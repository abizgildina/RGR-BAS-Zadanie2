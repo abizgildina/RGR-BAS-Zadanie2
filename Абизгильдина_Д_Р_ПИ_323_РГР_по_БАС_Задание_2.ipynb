{
  "nbformat": 4,
  "nbformat_minor": 0,
  "metadata": {
    "colab": {
      "name": "Абизгильдина Д.Р. ПИ-323 РГР по БАС Задание 2.ipynb",
      "provenance": [],
      "collapsed_sections": []
    },
    "kernelspec": {
      "name": "python3",
      "display_name": "Python 3"
    },
    "language_info": {
      "name": "python"
    }
  },
  "cells": [
    {
      "cell_type": "code",
      "execution_count": null,
      "metadata": {
        "id": "zPKBRBsn1lmQ"
      },
      "outputs": [],
      "source": [
        ""
      ]
    },
    {
      "cell_type": "markdown",
      "source": [
        "# **Греческий алфавит**\n",
        "Заглавная|Строчная|Название\n",
        "--|--|--\n",
        "A|$\\alpha$|альфа\n",
        "B|$\\beta$|бета\n",
        "Г|$\\gamma$|гамма\n",
        "Δ|$\\delta$|дельта\n",
        "E|$\\epsilon$|эпсилон\n",
        "|$\\varepsilon$|\n",
        "Z|$\\zeta$|дзета\n",
        "H|$\\eta$|эта\n",
        "$\\Theta$|$\\theta$|тета\n",
        "|$\\vartheta$|\n",
        "Ι|$\\iota$|йота\n",
        "K|$\\kappa$|каппа\n",
        "|$\\varkappa$|\n",
        "$\\Lambda$|$\\lambda$|лямбда\n",
        "M|$\\mu$|мю\n",
        "N|$\\nu$|ню\n",
        "$\\Xi$|$\\xi$|кси\n",
        "$\\Pi$|$\\pi$|пи\n",
        "|$\\varpi$|\n",
        "P|$\\rho$|ро\n",
        "|$\\varrho$|\n",
        "$\\Sigma$|$\\sigma$|сигма\n",
        "|$\\varsigma$|\n",
        "T|$\\tau$|тау\n",
        "$\\Upsilon$|$\\upsilon$|ипсилон\n",
        "$\\Phi$|$\\phi$|фи\n",
        "|$\\varphi$|\n",
        "X|$\\chi$|чи\n",
        "$\\Psi$|$\\psi$|пси\n",
        "$\\Omega$|$\\omega$|омега\n",
        "\n",
        "# **Формула нормального распределения**\n",
        "\n",
        "${\\displaystyle f(x)={\\frac{1}{\\sigma {\\sqrt{2\\pi}}}\n",
        "   e^{-{\\frac{1}{2}}\\left({\\frac{(x-\\mu) }{\\sigma }}\\right)^{2}}}}$\n",
        "\n",
        "#**Заголовок первого уровня**\n",
        "##**Заголовок второго уровня**\n",
        "###**Заголовок третьего уровня** "
      ],
      "metadata": {
        "id": "641xbFw71oUs"
      }
    }
  ]
}